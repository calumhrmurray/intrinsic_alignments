{
 "cells": [
  {
   "cell_type": "code",
   "execution_count": null,
   "metadata": {},
   "outputs": [],
   "source": []
  },
  {
   "cell_type": "code",
   "execution_count": null,
   "metadata": {},
   "outputs": [],
   "source": [
    "import pyccl as ccl\n",
    "\n",
    "# Define cosmology\n",
    "cosmo = ccl.CosmologyVanillaLCDM()\n",
    "\n",
    "# Define the galaxy and shape catalogues\n",
    "galaxy_sample = {'RA': galaxies['RA'], 'DEC': galaxies['DEC'], 'Z': galaxies['Z'], 'W': galaxies['WEIGHT']}\n",
    "shape_sample = {'RA': shapes['RA'], 'DEC': shapes['Dec'], 'E1': shapes['e1'], 'E2': shapes['e2'], 'W': shapes['w_iv']}\n",
    "\n",
    "# Convert to comoving distances\n",
    "galaxy_sample['D'] = ccl.comoving_radial_distance(cosmo, 1 / (1 + galaxy_sample['Z']))\n",
    "shape_sample['D'] = ccl.comoving_radial_distance(cosmo, 1 / (1 + shapes['Z']))\n",
    "\n",
    "# Calculate xi_{g+}(r_perp, r_par)\n",
    "r_perp_bins = np.logspace(np.log10(0.1), np.log10(200), 20)\n",
    "r_par_bins = np.linspace(-200, 200, 41)\n",
    "xi_gp = ccl.correlation_3dRps(cosmo, galaxy_sample, shape_sample, r_perp_bins, r_par_bins)\n",
    "\n",
    "# Plot the results\n",
    "plt.figure(figsize=(10, 5))\n",
    "plt.imshow(np.log10(np.abs(xi_gp)), extent=[r_perp_bins.min(), r_perp_bins.max(), r_par_bins.min(), r_par_bins.max()], aspect='auto')\n",
    "plt.colorbar(label=r'$\\xi_{g+}(r_\\perp, r_\\parallel)$')\n",
    "plt.xlabel(r'$r_\\perp$ [Mpc/h]')\n",
    "plt.ylabel(r'$r_\\parallel$ [Mpc/h]')\n",
    "plt.xscale('log')\n",
    "plt.title(r'$\\xi_{g+}(r_\\perp, r_\\parallel)$')\n",
    "plt.show()"
   ]
  }
 ],
 "metadata": {
  "language_info": {
   "name": "python"
  }
 },
 "nbformat": 4,
 "nbformat_minor": 2
}
