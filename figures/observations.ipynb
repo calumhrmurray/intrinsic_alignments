{
 "cells": [
  {
   "cell_type": "code",
   "execution_count": 1,
   "metadata": {
    "vscode": {
     "languageId": "shellscript"
    }
   },
   "outputs": [],
   "source": [
    "import numpy as np\n",
    "import matplotlib.pyplot as plt\n",
    "from scipy.ndimage import gaussian_filter"
   ]
  },
  {
   "cell_type": "code",
   "execution_count": 2,
   "metadata": {},
   "outputs": [],
   "source": [
    "plt.rcParams['font.family'] = 'Nimbus Sans'"
   ]
  },
  {
   "cell_type": "code",
   "execution_count": 3,
   "metadata": {},
   "outputs": [],
   "source": [
    "xi_gn_p_results_rec = np.load('/home/murray/intrinsic_alignments/eboss_lrgpcmass_xi_gn_p_results_rec.npy')\n",
    "xi_gn_x_results_rec = np.load('/home/murray/intrinsic_alignments/eboss_lrgpcmass_xi_gn_x_results_rec.npy')\n",
    "\n",
    "xi_gn_p_results = np.load('/home/murray/intrinsic_alignments/eboss_lrgpcmass_xi_gn_p_results.npy')\n",
    "xi_gn_x_results = np.load('/home/murray/intrinsic_alignments/eboss_lrgpcmass_xi_gn_x_results.npy')\n",
    "\n",
    "lrg_xi_gn_p_results = np.load('/home/murray/intrinsic_alignments/lrg_xi_gn_p_results.npy')\n",
    "lrg_xi_gn_x_results = np.load('/home/murray/intrinsic_alignments/lrg_xi_gn_x_results.npy')\n",
    "\n",
    "elg_xi_gn_p_results = np.load('/home/murray/intrinsic_alignments/elg_xi_gn_p_results.npy')\n",
    "elg_xi_gn_x_results = np.load('/home/murray/intrinsic_alignments/elg_xi_gn_x_results.npy')\n"
   ]
  },
  {
   "cell_type": "code",
   "execution_count": 51,
   "metadata": {},
   "outputs": [],
   "source": [
    "def make_rsd_diagram( xi_gn_p_results ,\n",
    "                      xi_gn_x_results  , \n",
    "                      rmin = 60 ,  \n",
    "                      sigma = 2 , \n",
    "                      contourf = True , \n",
    "                      vmin = None ,\n",
    "                      vmax = None ):\n",
    "\n",
    "\n",
    "    # Apply Gaussian smoothing\n",
    "    smoothed_xi_gn_p_results = gaussian_filter(xi_gn_p_results, sigma= sigma )\n",
    "    smoothed_xi_gn_x_results = gaussian_filter(xi_gn_x_results, sigma= sigma )\n",
    "\n",
    "    plt.figure(figsize=(10, 6))\n",
    "    plt.subplot(121)\n",
    "    if contourf:\n",
    "        plt.contourf(smoothed_xi_gn_p_results, extent=[0, 200, -200, 200] , vmin = vmin , vmax = vmax )\n",
    "    else:   \n",
    "        plt.imshow(smoothed_xi_gn_p_results, extent=[0, 200, -200, 200] , vmin = vmin , vmax = vmax )\n",
    "\n",
    "    plt.axis('equal')\n",
    "\n",
    "    plt.xlim(  0 , rmin )\n",
    "    plt.ylim( -rmin , rmin )\n",
    "    plt.colorbar()\n",
    "    plt.ylabel(r'$\\pi$ [Mpc]', fontsize = 15 )\n",
    "    plt.xlabel(r'$r_{\\perp}$ [Mpc]', fontsize = 15 )\n",
    "    plt.title(r'$\\xi_{G+}(r_{\\perp},\\pi)$')\n",
    "    plt.tight_layout()\n",
    "\n",
    "\n",
    "    plt.subplot(122)\n",
    "    if contourf:\n",
    "        plt.contourf(smoothed_xi_gn_x_results, extent=[0, 200, -200, 200] , vmin = vmin , vmax = vmax )\n",
    "    else:   \n",
    "        plt.imshow(smoothed_xi_gn_x_results, extent=[0, 200, -200, 200] , vmin = vmin , vmax = vmax ) \n",
    "    plt.axis('equal')\n",
    "   \n",
    "    plt.xlim(  0 , rmin )\n",
    "    plt.ylim( -rmin , rmin )\n",
    "    plt.colorbar()\n",
    "    plt.ylabel(r'$\\pi$ [Mpc]', fontsize = 15 )\n",
    "    plt.xlabel(r'$r_{\\perp}$ [Mpc]', fontsize = 15 )\n",
    "    plt.title(r'$\\xi_{G\\times}(r_{\\perp},\\pi)$')\n",
    "    plt.tight_layout()\n",
    "\n",
    "\n",
    "def reflect_make_rsd_diagram( xi_gn_p_results ,\n",
    "                      xi_gn_x_results  , \n",
    "                      rmin = 60 ,  \n",
    "                      sigma = 2 , \n",
    "                      contourf = True , \n",
    "                      vmin = None ,\n",
    "                      vmax = None ):\n",
    "    \n",
    "    # Reflect the array about r_par = 0\n",
    "    xi_gn_p_reflected = xi_gn_p_results[::-1, :]\n",
    "    # Sum the original and reflected arrays\n",
    "    xi_gn_p_summed = xi_gn_p_results + xi_gn_p_reflected\n",
    "    # Divide by 2 to get the average\n",
    "    xi_gn_p_avg = xi_gn_p_summed / 2\n",
    "\n",
    "    # Reflect the array about r_par = 0\n",
    "    xi_gn_x_reflected = xi_gn_x_results[::-1, :]\n",
    "    # Sum the original and reflected arrays\n",
    "    xi_gn_x_summed = xi_gn_x_results + xi_gn_x_reflected\n",
    "    # Divide by 2 to get the average\n",
    "    xi_gn_x_avg = xi_gn_x_summed / 2\n",
    "\n",
    "    # Apply Gaussian smoothing\n",
    "    smoothed_xi_gn_p_results = gaussian_filter(xi_gn_p_reflected, sigma= sigma )\n",
    "    smoothed_xi_gn_x_results = gaussian_filter(xi_gn_x_reflected, sigma= sigma )\n",
    "\n",
    "    plt.figure(figsize=(10, 4))\n",
    "    plt.subplot(121)\n",
    "    if contourf:\n",
    "        plt.contourf(smoothed_xi_gn_p_results, extent=[0, 200, -200, 200] , vmin = vmin , vmax = vmax )\n",
    "    else:   \n",
    "        plt.imshow(smoothed_xi_gn_p_results, extent=[0, 200, -200, 200] , vmin = vmin , vmax = vmax )\n",
    "    plt.axis('equal')\n",
    "\n",
    "    plt.xlim(  0 , rmin )\n",
    "    plt.ylim( 0 , rmin )\n",
    "    plt.colorbar()\n",
    "    plt.ylabel(r'$\\pi$ [Mpc]', fontsize = 15 )\n",
    "    plt.xlabel(r'$r_{\\perp}$ [Mpc]', fontsize = 15 )\n",
    "    plt.title(r'$\\xi_{G+}(r_{\\perp},\\pi)$')\n",
    "    plt.tight_layout()\n",
    "\n",
    "\n",
    "    plt.subplot(122)\n",
    "    if contourf:\n",
    "        plt.contourf(smoothed_xi_gn_x_results, extent=[0, 200, -200, 200] , vmin = vmin , vmax = vmax )\n",
    "    else:   \n",
    "        plt.imshow(smoothed_xi_gn_x_results, extent=[0, 200, -200, 200] , vmin = vmin , vmax = vmax )  \n",
    "    plt.axis('equal')\n",
    "  \n",
    "    plt.xlim(  0 , rmin )\n",
    "    plt.ylim( 0 , rmin )\n",
    "    plt.colorbar()\n",
    "    plt.ylabel(r'$\\pi$ [Mpc]', fontsize = 15 )\n",
    "    plt.xlabel(r'$r_{\\perp}$ [Mpc]', fontsize = 15 )\n",
    "    plt.title(r'$\\xi_{G\\times}(r_{\\perp},\\pi)$')\n",
    "    plt.tight_layout()\n"
   ]
  },
  {
   "cell_type": "code",
   "execution_count": 52,
   "metadata": {},
   "outputs": [
    {
     "name": "stdout",
     "output_type": "stream",
     "text": []
    },
    {
     "name": "stdout",
     "output_type": "stream",
     "text": []
    }
   ],
   "source": [
    "make_rsd_diagram( xi_gn_p_results , xi_gn_x_results , vmin = -8e-3 , vmax = 8e-3 )\n",
    "make_rsd_diagram( xi_gn_p_results_rec , xi_gn_x_results_rec , vmin = -8e-3 , vmax = 8e-3 )"
   ]
  },
  {
   "cell_type": "code",
   "execution_count": 53,
   "metadata": {},
   "outputs": [
    {
     "name": "stdout",
     "output_type": "stream",
     "text": []
    },
    {
     "name": "stdout",
     "output_type": "stream",
     "text": []
    }
   ],
   "source": [
    "reflect_make_rsd_diagram( xi_gn_p_results , xi_gn_x_results , vmin = -8e-3 , vmax = 8e-3 , sigma = 2.5)\n",
    "reflect_make_rsd_diagram( xi_gn_p_results_rec , xi_gn_x_results_rec , vmin = -8e-3 , vmax = 8e-3 , sigma = 2.5)"
   ]
  },
  {
   "cell_type": "code",
   "execution_count": 54,
   "metadata": {},
   "outputs": [
    {
     "name": "stdout",
     "output_type": "stream",
     "text": []
    },
    {
     "name": "stdout",
     "output_type": "stream",
     "text": []
    }
   ],
   "source": [
    "make_rsd_diagram( lrg_xi_gn_p_results , lrg_xi_gn_x_results , vmin = None , vmax = None , sigma = 2.5 )\n",
    "reflect_make_rsd_diagram( lrg_xi_gn_p_results , lrg_xi_gn_x_results , vmin = None , vmax = None  , sigma = 2.5 )"
   ]
  },
  {
   "cell_type": "code",
   "execution_count": 55,
   "metadata": {},
   "outputs": [
    {
     "name": "stdout",
     "output_type": "stream",
     "text": []
    },
    {
     "name": "stdout",
     "output_type": "stream",
     "text": []
    }
   ],
   "source": [
    "make_rsd_diagram( elg_xi_gn_p_results , elg_xi_gn_x_results , vmin = None , vmax = None , sigma = 1.5 )\n",
    "reflect_make_rsd_diagram( elg_xi_gn_p_results , elg_xi_gn_x_results , vmin = None , vmax = None  , sigma= 1.5 )"
   ]
  },
  {
   "cell_type": "code",
   "execution_count": 40,
   "metadata": {},
   "outputs": [],
   "source": [
    "def monopole(  xi_gn_p , xi_gn_x , s_bins , r_perp_flat , r_par_flat ):\n",
    "\n",
    "    xi_gn_p_flat = xi_gn_p.flatten()\n",
    "    xi_gn_x_flat = xi_gn_x.flatten()\n",
    "\n",
    "    # Calculate s for each pair of (r_perp, r_par)\n",
    "    s = np.sqrt(r_perp_flat**2 + r_par_flat**2)\n",
    "\n",
    "    s_cents = ( s_bins[1:] + s_bins[:-1] )/2.\n",
    "\n",
    "    # Initialize arrays to store the results\n",
    "    xi_p_s = np.zeros(len(s_bins) - 1)\n",
    "    var_xi_p_s = np.zeros(len(s_bins) - 1)\n",
    "    counts_p = np.zeros(len(s_bins) - 1)\n",
    "\n",
    "    xi_x_s = np.zeros(len(s_bins) - 1)\n",
    "    var_xi_x_s = np.zeros(len(s_bins) - 1)\n",
    "    counts_x = np.zeros(len(s_bins) - 1)\n",
    "\n",
    "    # Bin the results by s and calculate the radial averages and variances\n",
    "    for i in range(len(s_bins) - 1):\n",
    "        mask = (s >= s_bins[i]) & (s < s_bins[i + 1])\n",
    "        if np.any(mask):  # Check if there are any elements in the mask\n",
    "            xi_p_s[i] = np.mean(xi_gn_p_flat[mask])\n",
    "            var_xi_p_s[i] = np.var(xi_gn_p_flat[mask])\n",
    "            counts_p[i] = np.sum(mask)\n",
    "\n",
    "            xi_x_s[i] = np.mean(xi_gn_x_flat[mask])\n",
    "            var_xi_x_s[i] = np.var(xi_gn_x_flat[mask])\n",
    "            counts_x[i] = np.sum(mask)\n",
    "\n",
    "\n",
    "    return xi_p_s , var_xi_p_s , counts_p , xi_x_s , var_xi_x_s , counts_x , s_cents"
   ]
  },
  {
   "cell_type": "code",
   "execution_count": 41,
   "metadata": {},
   "outputs": [],
   "source": [
    "# Define the range and number of bins for rpar\n",
    "rpar_bins = np.linspace(-200, 200, 201 )  \n",
    "rperp_bins = np.linspace(0.5, 200, 101 )\n",
    "\n",
    "r_perp_cents = (rperp_bins[1:] + rperp_bins[:-1]) / 2\n",
    "r_par_cents = (rpar_bins[1:] + rpar_bins[:-1]) / 2\n",
    "\n",
    "r_perp_flat = np.array([r_perp_cents] * len(r_par_cents)).flatten()\n",
    "r_par_flat = np.array([[r_par] * len(r_perp_cents) for r_par in r_par_cents]).flatten()\n"
   ]
  },
  {
   "cell_type": "code",
   "execution_count": 24,
   "metadata": {},
   "outputs": [],
   "source": [
    "sbins = np.logspace( 0 , np.log10( 200 ) , 15 )\n",
    "# sbins = np.linspace( 0.1 , 200 , 25 )"
   ]
  },
  {
   "cell_type": "code",
   "execution_count": 25,
   "metadata": {},
   "outputs": [],
   "source": [
    "xi_p_s , var_xi_p_s , counts_p , xi_x_s , var_xi_x_s , counts_x , s_cents = monopole( xi_gn_p_results , xi_gn_x_results , sbins , r_perp_flat , r_par_flat )\n",
    "xi_p_s_rec , var_xi_p_s_rec , counts_p , xi_x_s_rec , var_xi_x_s_rec , counts_x , s_cents = monopole( xi_gn_p_results_rec , xi_gn_x_results_rec , sbins , r_perp_flat , r_par_flat )"
   ]
  },
  {
   "cell_type": "code",
   "execution_count": 26,
   "metadata": {},
   "outputs": [],
   "source": [
    "lrg_xi_p_s , lrg_var_xi_p_s , counts_p , lrg_xi_x_s , lrg_var_xi_x_s , counts_x , s_cents = monopole( lrg_xi_gn_p_results ,\n",
    "                                                                                                      lrg_xi_gn_x_results , \n",
    "                                                                                                      sbins , r_perp_flat , r_par_flat )"
   ]
  },
  {
   "cell_type": "code",
   "execution_count": 42,
   "metadata": {},
   "outputs": [],
   "source": [
    "elg_xi_p_s , elg_var_xi_p_s , counts_p , elg_xi_x_s , elg_var_xi_x_s , counts_x , s_cents = monopole( elg_xi_gn_p_results ,\n",
    "                                                                                                      elg_xi_gn_x_results , \n",
    "                                                                                                      sbins , r_perp_flat , r_par_flat )"
   ]
  },
  {
   "cell_type": "code",
   "execution_count": 43,
   "metadata": {},
   "outputs": [],
   "source": [
    "h = 0.7"
   ]
  },
  {
   "cell_type": "code",
   "execution_count": 44,
   "metadata": {},
   "outputs": [
    {
     "name": "stdout",
     "output_type": "stream",
     "text": []
    },
    {
     "name": "stdout",
     "output_type": "stream",
     "text": []
    },
    {
     "name": "stdout",
     "output_type": "stream",
     "text": []
    }
   ],
   "source": [
    "plt.figure( figsize=(6,5))\n",
    "# plt.subplot(211)\n",
    "plt.errorbar( s_cents * h  , \n",
    "              xi_p_s * s_cents**2,\n",
    "              fmt='o' , yerr = var_xi_p_s**0.5  * s_cents**2 / counts_x**0.5 )\n",
    "plt.errorbar( s_cents*1.1 * h ,\n",
    "              xi_p_s_rec * s_cents**2,\n",
    "              fmt='o' , yerr = var_xi_p_s**0.5  * s_cents**2 / counts_x**0.5 )\n",
    "plt.xlabel('s')\n",
    "plt.ylabel(r'$s^2 \\xi_{g+}(s)$')\n",
    "plt.ylim(-12,10)\n",
    "plt.xlim( 50 , 150 )\n",
    "#plt.xscale('log')\n",
    "\n",
    "# plt.subplot(212)\n",
    "# plt.errorbar( s_cents * h ,\n",
    "#               xi_p_s_rec * s_cents**2,\n",
    "#               fmt='o' , yerr = var_xi_p_s**0.5  * s_cents**2 / counts_x**0.5 )\n",
    "# plt.xlabel('s')\n",
    "# plt.ylabel(r'$s^2 \\xi_{g+}(s)$')\n",
    "# plt.ylim(-12,10)\n",
    "# plt.xlim( 50 , 150 )\n",
    "##plt.xscale('log')"
   ]
  },
  {
   "cell_type": "code",
   "execution_count": 45,
   "metadata": {},
   "outputs": [
    {
     "name": "stdout",
     "output_type": "stream",
     "text": []
    },
    {
     "name": "stdout",
     "output_type": "stream",
     "text": []
    },
    {
     "name": "stdout",
     "output_type": "stream",
     "text": []
    }
   ],
   "source": [
    "plt.figure( figsize=(6,5))\n",
    "plt.errorbar( s_cents * h , \n",
    "              -xi_p_s ,\n",
    "              fmt='ko' , yerr = var_xi_p_s**0.5  / counts_x**0.5,\n",
    "              label = 'eboss CMASS + LRG' )\n",
    "plt.errorbar( s_cents * h ,\n",
    "              -xi_p_s_rec ,\n",
    "              fmt='go' , \n",
    "              yerr = var_xi_p_s**0.5 / counts_x**0.5 ,\n",
    "               label = 'eboss CMASS + LRG, reconstructed positions' )\n",
    "\n",
    "# plt.errorbar( s_cents * h , \n",
    "#               lrg_xi_p_s ,\n",
    "#               fmt='ro' , yerr = var_xi_p_s**0.5  / counts_x**0.5,\n",
    "#               label = 'DESI LRG' )\n",
    "\n",
    "plt.plot( [ 0 , 201 ] , [ 0 , 0 ] , 'k--' , alpha = 0.5 )\n",
    "plt.xlabel('s [Mpc/h]' , fontsize = 15)\n",
    "plt.ylabel(r'$\\xi_{g+,0}(s)$' , fontsize = 15)\n",
    "plt.xticks( fontsize = 12)\n",
    "plt.yticks( fontsize = 12)\n",
    "# plt.ylim(-12,10)\n",
    "plt.xlim( np.min( s_cents * h ) * 0.9 , 150 )\n",
    "plt.xscale('log')\n",
    "plt.yscale('log')\n",
    "plt.xlim( 1 , 140)\n",
    "# plt.ylim( -0.01 , 0.001 )\n",
    "plt.legend( fontsize = 12 )"
   ]
  },
  {
   "cell_type": "code",
   "execution_count": 49,
   "metadata": {},
   "outputs": [
    {
     "name": "stdout",
     "output_type": "stream",
     "text": []
    },
    {
     "name": "stdout",
     "output_type": "stream",
     "text": []
    },
    {
     "name": "stdout",
     "output_type": "stream",
     "text": []
    }
   ],
   "source": [
    "plt.figure( figsize=(6,5))\n",
    "plt.errorbar( s_cents * h , \n",
    "              -xi_p_s ,\n",
    "              fmt='ko' , yerr = var_xi_p_s**0.5  / counts_x**0.5,\n",
    "              label = 'eboss CMASS + LRG' )\n",
    "# plt.errorbar( s_cents * h ,\n",
    "#               xi_p_s_rec ,\n",
    "#               fmt='ko' , yerr = var_xi_p_s**0.5 / counts_x**0.5 )\n",
    "\n",
    "plt.errorbar( s_cents * h , \n",
    "              -lrg_xi_p_s ,\n",
    "              fmt='ro' , yerr = var_xi_p_s**0.5  / counts_x**0.5,\n",
    "              label = 'DESI LRG' )\n",
    "\n",
    "plt.errorbar( s_cents * h , \n",
    "              -elg_xi_p_s ,\n",
    "              fmt='bo' , yerr = var_xi_p_s**0.5  / counts_x**0.5,\n",
    "              label = 'DESI ELG' )\n",
    "\n",
    "plt.plot( [ 0 , 201 ] , [ 0 , 0 ] , 'k--' , alpha = 0.5 )\n",
    "plt.xlabel('s [Mpc/h]' , fontsize = 15)\n",
    "plt.ylabel(r'$\\xi_{g+,0}(s)$' , fontsize = 15)\n",
    "plt.xticks( fontsize = 12)\n",
    "plt.yticks( fontsize = 12)\n",
    "# plt.ylim(-12,10)\n",
    "plt.xlim( np.min( s_cents * h ) * 0.9 , 150 )\n",
    "plt.xscale('log')\n",
    "#plt.yscale('log')\n",
    "plt.xlim( 1 , 140)\n",
    "# plt.ylim( -0.01 , 0.001 )\n",
    "plt.legend( fontsize = 12 )"
   ]
  },
  {
   "cell_type": "code",
   "execution_count": 33,
   "metadata": {},
   "outputs": [
    {
     "name": "stdout",
     "output_type": "stream",
     "text": []
    },
    {
     "name": "stdout",
     "output_type": "stream",
     "text": []
    },
    {
     "name": "stdout",
     "output_type": "stream",
     "text": []
    }
   ],
   "source": [
    "plt.figure( figsize=(6,5))\n",
    "plt.errorbar( s_cents * h , \n",
    "              xi_x_s ,\n",
    "              fmt='ko' , yerr = var_xi_p_s**0.5  / counts_x**0.5,\n",
    "              label = 'eboss CMASS + LRG' )\n",
    "# plt.errorbar( s_cents * h ,\n",
    "#               xi_p_s_rec ,\n",
    "#               fmt='ko' , yerr = var_xi_p_s**0.5 / counts_x**0.5 )\n",
    "\n",
    "# plt.errorbar( s_cents * h , \n",
    "#               lrg_xi_x_s ,\n",
    "#               fmt='ro' , yerr = var_xi_p_s**0.5  / counts_x**0.5,\n",
    "#               label = 'DESI LRG' )\n",
    "\n",
    "plt.plot( [ 0 , 201 ] , [ 0 , 0 ] , 'k--' , alpha = 0.5 )\n",
    "plt.xlabel('s [Mpc/h]' , fontsize = 15)\n",
    "plt.ylabel(r'$\\xi_{g\\times,0}(s)$' , fontsize = 15)\n",
    "plt.xticks( fontsize = 12)\n",
    "plt.yticks( fontsize = 12)\n",
    "# plt.ylim(-12,10)\n",
    "plt.xlim( np.min( s_cents * h ) * 0.9 , 150 )\n",
    "plt.xscale('log')\n",
    "plt.xlim( 1 , 140)\n",
    "#plt.ylim( -0.01 , 0.001 )\n",
    "plt.legend( fontsize = 12 )"
   ]
  },
  {
   "cell_type": "code",
   "execution_count": 59,
   "metadata": {},
   "outputs": [],
   "source": [
    "def quadrupole(xi_gn_p, xi_gn_x, s_bins, r_perp_flat, r_par_flat):\n",
    "    \"\"\"\n",
    "    Measure the quadrupole moment of the correlation function.\n",
    "\n",
    "    Parameters:\n",
    "    xi_gn_p : ndarray\n",
    "        The xi_gn_p array (real part of the correlation function).\n",
    "    xi_gn_x : ndarray\n",
    "        The xi_gn_x array (imaginary part of the correlation function).\n",
    "    s_bins : ndarray\n",
    "        The bins for the separation s.\n",
    "    r_perp_flat : ndarray\n",
    "        Flattened array of perpendicular separations.\n",
    "    r_par_flat : ndarray\n",
    "        Flattened array of parallel separations.\n",
    "\n",
    "    Returns:\n",
    "    xi_p_quad : ndarray\n",
    "        Quadrupole moment for the real part.\n",
    "    var_xi_p_quad : ndarray\n",
    "        Variance of the quadrupole moment for the real part.\n",
    "    counts_p_quad : ndarray\n",
    "        Counts for the real part.\n",
    "    xi_x_quad : ndarray\n",
    "        Quadrupole moment for the imaginary part.\n",
    "    var_xi_x_quad : ndarray\n",
    "        Variance of the quadrupole moment for the imaginary part.\n",
    "    counts_x_quad : ndarray\n",
    "        Counts for the imaginary part.\n",
    "    s_cents : ndarray\n",
    "        Centers of the separation bins.\n",
    "    \"\"\"\n",
    "    xi_gn_p_flat = xi_gn_p.flatten()\n",
    "    xi_gn_x_flat = xi_gn_x.flatten()\n",
    "\n",
    "    # Calculate s and mu for each pair of (r_perp, r_par)\n",
    "    s = np.sqrt(r_perp_flat**2 + r_par_flat**2)\n",
    "    mu = r_par_flat / s\n",
    "\n",
    "    s_cents = (s_bins[1:] + s_bins[:-1]) / 2.\n",
    "\n",
    "    # Initialize arrays to store the results\n",
    "    xi_p_quad = np.zeros(len(s_bins) - 1)\n",
    "    var_xi_p_quad = np.zeros(len(s_bins) - 1)\n",
    "    counts_p_quad = np.zeros(len(s_bins) - 1)\n",
    "\n",
    "    xi_x_quad = np.zeros(len(s_bins) - 1)\n",
    "    var_xi_x_quad = np.zeros(len(s_bins) - 1)\n",
    "    counts_x_quad = np.zeros(len(s_bins) - 1)\n",
    "\n",
    "    # Bin the results by s and calculate the quadrupole moments\n",
    "    for i in range(len(s_bins) - 1):\n",
    "        mask = (s >= s_bins[i]) & (s < s_bins[i + 1])\n",
    "        if np.any(mask):  # Check if there are any elements in the mask\n",
    "            legendre_quad = (3 * mu[mask]**2 - 1) / 2  # Quadrupole Legendre polynomial\n",
    "\n",
    "            xi_p_quad[i] = np.mean(xi_gn_p_flat[mask] * legendre_quad)\n",
    "            var_xi_p_quad[i] = np.var(xi_gn_p_flat[mask] * legendre_quad)\n",
    "            counts_p_quad[i] = np.sum(mask)\n",
    "\n",
    "            xi_x_quad[i] = np.mean(xi_gn_x_flat[mask] * legendre_quad)\n",
    "            var_xi_x_quad[i] = np.var(xi_gn_x_flat[mask] * legendre_quad)\n",
    "            counts_x_quad[i] = np.sum(mask)\n",
    "\n",
    "    return xi_p_quad, var_xi_p_quad, counts_p_quad, xi_x_quad, var_xi_x_quad, counts_x_quad, s_cents"
   ]
  },
  {
   "cell_type": "code",
   "execution_count": 60,
   "metadata": {},
   "outputs": [],
   "source": [
    "quad_eboss_xi_p_s , quad_eboss_var_xi_p_s , counts_p , quad_eboss_xi_x_s , quad_eboss_var_xi_x_s , counts_x , s_cents = quadrupole( xi_gn_p_results ,\n",
    "                                                                                                      xi_gn_x_results , \n",
    "                                                                                                      sbins , r_perp_flat , r_par_flat )\n",
    "quad_eboss_xi_p_s_rec , quad_eboss_var_xi_p_s , counts_p , quad_eboss_xi_x_s , quad_eboss_var_xi_x_s , counts_x , s_cents = quadrupole( xi_gn_p_results_rec ,\n",
    "                                                                                                        xi_gn_x_results_rec , \n",
    "                                                                                                        sbins , r_perp_flat , r_par_flat )\n",
    "\n",
    "quad_lrg_xi_p_s , quad_lrg_var_xi_p_s , counts_p , quad_lrg_xi_x_s , quad_lrg_var_xi_x_s , counts_x , s_cents = quadrupole( lrg_xi_gn_p_results ,\n",
    "                                                                                                      lrg_xi_gn_x_results , \n",
    "                                                                                                      sbins , r_perp_flat , r_par_flat )"
   ]
  },
  {
   "cell_type": "code",
   "execution_count": 64,
   "metadata": {},
   "outputs": [
    {
     "name": "stdout",
     "output_type": "stream",
     "text": []
    },
    {
     "name": "stdout",
     "output_type": "stream",
     "text": []
    }
   ],
   "source": [
    "plt.figure( figsize=(6,5))\n",
    "\n",
    "plt.errorbar( s_cents * h , \n",
    "              quad_eboss_xi_p_s * s_cents**2 ,\n",
    "              fmt='ko' , yerr = quad_eboss_var_xi_p_s**0.5 * s_cents**2  / counts_x**0.5,\n",
    "              label = 'eBOSS CMASS + LRG' )\n",
    "\n",
    "plt.errorbar( s_cents * h , \n",
    "              quad_eboss_xi_p_s_rec  * s_cents**2,\n",
    "              fmt='go' , yerr = quad_eboss_var_xi_p_s**0.5  * s_cents**2 / counts_x**0.5,\n",
    "              label = 'eBOSS CMASS + LRG, reconstructed' )\n",
    "# plt.errorbar( s_cents * h ,\n",
    "#               xi_p_s_rec ,\n",
    "#               fmt='ko' , yerr = var_xi_p_s**0.5 / counts_x**0.5 )\n",
    "\n",
    "# plt.errorbar( s_cents * h * 1.1 , \n",
    "#               quad_lrg_xi_p_s ,\n",
    "#               fmt='ro' , yerr = quad_lrg_var_xi_p_s**0.5  / counts_x**0.5,\n",
    "#               label = 'DESI LRG' )\n",
    "\n",
    "plt.plot( [ 0 , 201 ] , [ 0 , 0 ] , 'k--' , alpha = 0.5 )\n",
    "plt.xlabel('s [Mpc/h]' , fontsize = 15)\n",
    "plt.ylabel(r'$\\xi_{g+,2}(s)$' , fontsize = 15)\n",
    "plt.xticks( fontsize = 12)\n",
    "plt.yticks( fontsize = 12)\n",
    "# plt.ylim(-12,10)\n",
    "plt.xlim( np.min( s_cents * h ) * 0.9 , 150 )\n",
    "# plt.xscale('log')\n",
    "plt.xlim( 1 , 140)\n",
    "#plt.ylim( -0.003 , 0.0015 )\n",
    "plt.legend( fontsize = 12 )"
   ]
  },
  {
   "cell_type": "code",
   "execution_count": 66,
   "metadata": {},
   "outputs": [
    {
     "name": "stdout",
     "output_type": "stream",
     "text": []
    },
    {
     "name": "stdout",
     "output_type": "stream",
     "text": []
    }
   ],
   "source": [
    "plt.figure( figsize=(6,5))\n",
    "\n",
    "plt.errorbar( s_cents * h , \n",
    "              quad_eboss_xi_p_s  ,\n",
    "              fmt='ko' , yerr = quad_eboss_var_xi_p_s**0.5   / counts_x**0.5,\n",
    "              label = 'eBOSS CMASS + LRG' )\n",
    "\n",
    "plt.errorbar( s_cents * h , \n",
    "              quad_eboss_xi_p_s_rec  ,\n",
    "              fmt='go' , yerr = quad_eboss_var_xi_p_s**0.5   / counts_x**0.5,\n",
    "              label = 'eBOSS CMASS + LRG, reconstructed' )\n",
    "# plt.errorbar( s_cents * h ,\n",
    "#               xi_p_s_rec ,\n",
    "#               fmt='ko' , yerr = var_xi_p_s**0.5 / counts_x**0.5 )\n",
    "\n",
    "# plt.errorbar( s_cents * h * 1.1 , \n",
    "#               quad_lrg_xi_p_s ,\n",
    "#               fmt='ro' , yerr = quad_lrg_var_xi_p_s**0.5  / counts_x**0.5,\n",
    "#               label = 'DESI LRG' )\n",
    "\n",
    "plt.plot( [ 0 , 201 ] , [ 0 , 0 ] , 'k--' , alpha = 0.5 )\n",
    "plt.xlabel('s [Mpc/h]' , fontsize = 15)\n",
    "plt.ylabel(r'$\\xi_{g+,2}(s)$' , fontsize = 15)\n",
    "plt.xticks( fontsize = 12)\n",
    "plt.yticks( fontsize = 12)\n",
    "# plt.ylim(-12,10)\n",
    "plt.xlim( np.min( s_cents * h ) * 0.9 , 150 )\n",
    "# plt.xscale('log')\n",
    "plt.xlim( 1 , 140)\n",
    "#plt.ylim( -0.003 , 0.0015 )\n",
    "plt.legend( fontsize = 12 )"
   ]
  },
  {
   "cell_type": "code",
   "execution_count": 67,
   "metadata": {},
   "outputs": [
    {
     "name": "stdout",
     "output_type": "stream",
     "text": []
    },
    {
     "name": "stdout",
     "output_type": "stream",
     "text": []
    }
   ],
   "source": [
    "plt.figure( figsize=(6,5))\n",
    "\n",
    "plt.errorbar( s_cents * h , \n",
    "              quad_eboss_xi_x_s ,\n",
    "              fmt='ko' , yerr = quad_eboss_var_xi_p_s**0.5  / counts_x**0.5,\n",
    "              label = 'eBOSS CMASS + LRG' )\n",
    "# plt.errorbar( s_cents * h ,\n",
    "#               xi_p_s_rec ,\n",
    "#               fmt='ko' , yerr = var_xi_p_s**0.5 / counts_x**0.5 )\n",
    "\n",
    "plt.errorbar( s_cents * h * 1.1 , \n",
    "              quad_lrg_xi_x_s ,\n",
    "              fmt='ro' , yerr = quad_lrg_var_xi_p_s**0.5  / counts_x**0.5,\n",
    "              label = 'DESI LRG' )\n",
    "\n",
    "plt.plot( [ 0 , 201 ] , [ 0 , 0 ] , 'k--' , alpha = 0.5 )\n",
    "plt.xlabel('s [Mpc/h]' , fontsize = 15)\n",
    "plt.ylabel(r'$\\xi_{g\\times,2}(s)$' , fontsize = 15)\n",
    "plt.xticks( fontsize = 12)\n",
    "plt.yticks( fontsize = 12)\n",
    "# plt.ylim(-12,10)\n",
    "plt.xlim( np.min( s_cents * h ) * 0.9 , 150 )\n",
    "#plt.xscale('log')\n",
    "plt.xlim( 1 , 140)\n",
    "plt.ylim( -0.003 , 0.0015 )\n",
    "plt.legend( fontsize = 12 )"
   ]
  },
  {
   "cell_type": "code",
   "execution_count": 8,
   "metadata": {},
   "outputs": [],
   "source": [
    "wr = np.load('/home/murray/intrinsic_alignments/bgs_w_r.npy')\n",
    "wgp = np.load('/home/murray/intrinsic_alignments/bgs_w_xi_p.npy')\n",
    "wgx = np.load('/home/murray/intrinsic_alignments/bgs_w_xi_x.npy')\n",
    "w_var = np.load('/home/murray/intrinsic_alignments/bgs_w_var_xi.npy')"
   ]
  },
  {
   "cell_type": "code",
   "execution_count": 23,
   "metadata": {},
   "outputs": [],
   "source": [
    "lrg_wr = np.load('/home/murray/intrinsic_alignments/lrg_w_r.npy')\n",
    "lrg_wgp = np.load('/home/murray/intrinsic_alignments/lrg_w_xi_p.npy')\n",
    "lrg_wgx = np.load('/home/murray/intrinsic_alignments/lrg_w_xi_x.npy')\n",
    "lrg_w_var = np.load('/home/murray/intrinsic_alignments/bgs_w_var_xi.npy')"
   ]
  },
  {
   "cell_type": "code",
   "execution_count": 24,
   "metadata": {},
   "outputs": [],
   "source": [
    "elgplrg_wr = np.load('/home/murray/intrinsic_alignments/elgplrg_w_r.npy')\n",
    "elgplrg_wgp = np.load('/home/murray/intrinsic_alignments/elgplrg_w_xi_p.npy')\n",
    "elgplrg_wgx = np.load('/home/murray/intrinsic_alignments/elgplrg_w_xi_x.npy')\n",
    "elgplrg_w_var = np.load('/home/murray/intrinsic_alignments/elgplrg_w_var_xi.npy')"
   ]
  },
  {
   "cell_type": "code",
   "execution_count": 27,
   "metadata": {},
   "outputs": [],
   "source": [
    "elg_wr = np.load('/home/murray/intrinsic_alignments/elg_w_r.npy')\n",
    "elg_wgp = np.load('/home/murray/intrinsic_alignments/elg_w_xi_p.npy')\n",
    "elg_wgx = np.load('/home/murray/intrinsic_alignments/elg_w_xi_x.npy')\n",
    "elg_w_var = np.load('/home/murray/intrinsic_alignments/elg_w_var_xi.npy')"
   ]
  },
  {
   "cell_type": "code",
   "execution_count": 32,
   "metadata": {},
   "outputs": [
    {
     "name": "stdout",
     "output_type": "stream",
     "text": []
    },
    {
     "name": "stdout",
     "output_type": "stream",
     "text": []
    }
   ],
   "source": [
    "plt.figure( figsize = ( 10 , 8 ))\n",
    "plt.errorbar( wr , wgp , yerr = w_var**0.5 , fmt = 'k-' , label = 'DESI BGS, $+$')\n",
    "plt.errorbar( wr , wgx , yerr = w_var**0.5 , fmt = 'k--' , label = r'DESI BGS, $\\times$')\n",
    "\n",
    "plt.errorbar( lrg_wr , lrg_wgp , yerr = lrg_w_var**0.5 , fmt = 'r-' , label = 'DESI LRG, $+$')\n",
    "plt.errorbar( lrg_wr , lrg_wgx , yerr = lrg_w_var**0.5 , fmt = 'r--' , label = r'DESI LRG, $\\times$')\n",
    "\n",
    "plt.errorbar( elgplrg_wr , elgplrg_wgp , yerr = elgplrg_w_var**0.5 , fmt = 'g-' , label = 'DESI ELG+LRG, $+$')\n",
    "plt.errorbar( elgplrg_wr , elgplrg_wgx , yerr = elgplrg_w_var**0.5 , fmt = 'g--' , label = r'DESI ELG+LRG, $\\times$')\n",
    "\n",
    "# plt.errorbar( elg_wr , elg_wgp , yerr = elg_w_var**0.5 , fmt = 'b-' , label = 'DESI ELG, $+$')\n",
    "# plt.errorbar( elg_wr , elg_wgx , yerr = elg_w_var**0.5 , fmt = 'b--' , label = r'DESI ELG, $\\times$')\n",
    "\n",
    "plt.xlabel(r'$r_{\\perp}$' , fontsize = 15 )\n",
    "plt.ylabel(r'$w_{G+,\\times}(r_{\\perp}$)' , fontsize = 15 )\n",
    "plt.xticks( fontsize = 12 )\n",
    "plt.yticks( fontsize = 12 )\n",
    "plt.ylim(-0.001 , 0.001)\n",
    "plt.legend( fontsize = 12 )"
   ]
  },
  {
   "cell_type": "code",
   "execution_count": null,
   "metadata": {},
   "outputs": [],
   "source": []
  },
  {
   "cell_type": "code",
   "execution_count": 6,
   "metadata": {},
   "outputs": [
    {
     "name": "stdout",
     "output_type": "stream",
     "text": []
    },
    {
     "name": "stdout",
     "output_type": "stream",
     "text": []
    }
   ],
   "source": [
    "plt.figure( figsize = ( 10 , 8 ))\n",
    "plt.plot( wr , -wgp , 'k-' )\n",
    "plt.plot( wr , -wgx , 'b--' )\n",
    "plt.xscale('log')\n",
    "plt.yscale('log')\n",
    "plt.xlabel(r'$r_{\\perp}$' , fontsize = 15 )\n",
    "plt.ylabel(r'$w_{G+}(r_{\\perp}$)' , fontsize = 15 )\n",
    "plt.xticks( fontsize = 12 )\n",
    "plt.yticks( fontsize = 12 )"
   ]
  },
  {
   "cell_type": "code",
   "execution_count": null,
   "metadata": {},
   "outputs": [],
   "source": []
  }
 ],
 "metadata": {
  "kernelspec": {
   "display_name": "base",
   "language": "python",
   "name": "python3"
  },
  "language_info": {
   "codemirror_mode": {
    "name": "ipython",
    "version": 3
   },
   "file_extension": ".py",
   "mimetype": "text/x-python",
   "name": "python",
   "nbconvert_exporter": "python",
   "pygments_lexer": "ipython3",
   "version": "3.12.5"
  }
 },
 "nbformat": 4,
 "nbformat_minor": 2
}
